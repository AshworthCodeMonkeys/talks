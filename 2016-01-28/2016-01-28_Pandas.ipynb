{
 "cells": [
  {
   "cell_type": "markdown",
   "metadata": {
    "toc": "true"
   },
   "source": [
    "# Table of Contents\n",
    " <p><div class=\"lev1\"><a href=\"#Pandas-Python-Data-Analysis-Library\"><span class=\"toc-item-num\">1 - </span><a href=\"http://pandas.pydata.org\" target=\"_blank\">Pandas</a> Python Data Analysis Library</a></div><div class=\"lev2\"><a href=\"#Data-Structures-in-Pandas\"><span class=\"toc-item-num\">1.1 - </span>Data Structures in Pandas</a></div><div class=\"lev3\"><a href=\"#Series\"><span class=\"toc-item-num\">1.1.1 - </span>Series</a></div><div class=\"lev3\"><a href=\"#DataFrame\"><span class=\"toc-item-num\">1.1.2 - </span>DataFrame</a></div><div class=\"lev3\"><a href=\"#Panels-(3D,-4D,-ND)\"><span class=\"toc-item-num\">1.1.3 - </span>Panels (3D, 4D, ND)</a></div><div class=\"lev2\"><a href=\"#IO-Tools\"><span class=\"toc-item-num\">1.2 - </span>IO Tools</a></div><div class=\"lev3\"><a href=\"#pd.from_csv\"><span class=\"toc-item-num\">1.2.1 - </span>pd.from_csv</a></div><div class=\"lev3\"><a href=\"#pd.DataFrame.to_csv\"><span class=\"toc-item-num\">1.2.2 - </span>pd.DataFrame.to_csv</a></div><div class=\"lev3\"><a href=\"#pd.DataFrame.to_hdf\"><span class=\"toc-item-num\">1.2.3 - </span>pd.DataFrame.to_hdf</a></div><div class=\"lev2\"><a href=\"#Reshaping\"><span class=\"toc-item-num\">1.3 - </span>Reshaping</a></div><div class=\"lev2\"><a href=\"#Indexing-and-Selecting-Data\"><span class=\"toc-item-num\">1.4 - </span>Indexing and Selecting Data</a></div><div class=\"lev2\"><a href=\"#Group-by-and-apply\"><span class=\"toc-item-num\">1.5 - </span>Group-by and apply</a></div><div class=\"lev3\"><a href=\"#Applying-a-function\"><span class=\"toc-item-num\">1.5.1 - </span>Applying a function</a></div><div class=\"lev2\"><a href=\"#Filtering-(Numeric-and-String)\"><span class=\"toc-item-num\">1.6 - </span>Filtering (Numeric and String)</a></div>"
   ]
  },
  {
   "cell_type": "markdown",
   "metadata": {},
   "source": [
    "> `Usual stuff to import`"
   ]
  },
  {
   "cell_type": "code",
   "execution_count": null,
   "metadata": {
    "collapsed": false
   },
   "outputs": [],
   "source": [
    "import pandas as pd\n",
    "import numpy as np\n",
    "import seaborn as sns\n",
    "\n",
    "from IPython.display import display, HTML"
   ]
  },
  {
   "cell_type": "markdown",
   "metadata": {
    "hide_input": true
   },
   "source": [
    "# [Pandas](http://pandas.pydata.org) Python Data Analysis Library\n",
    "\n",
    "If you find manipulating dataframes in `R` a bit too cumbersome, why don't you give Pandas a chance. On top of easy and efficient table management, plotting functionality is pretty great.\n",
    "\n",
    "## Data Structures in Pandas\n",
    "\n",
    "- Data alignment is intrinsic in pandas.\n",
    "\n",
    "### Series\n",
    "\n",
    "One-dimensional labelled array which can hold any data type (even Python objects). "
   ]
  },
  {
   "cell_type": "code",
   "execution_count": null,
   "metadata": {
    "collapsed": false
   },
   "outputs": [],
   "source": [
    "series_one = pd.Series(np.random.randn(5), index=['a', 'b', 'c', 'd', 'e'])\n",
    "series_one"
   ]
  },
  {
   "cell_type": "code",
   "execution_count": null,
   "metadata": {
    "collapsed": false
   },
   "outputs": [],
   "source": [
    "series_two = pd.Series({'a': 1, 'b': 2, 'c': 3, 'd': 4, 'e': 5})\n",
    "series_two"
   ]
  },
  {
   "cell_type": "markdown",
   "metadata": {
    "collapsed": true
   },
   "source": [
    "- ***<span class=\"mark\">Starting from version v0.8.0, pandas supporst non-unique index values</span>***\n",
    "\n",
    "Series is ndarray-like, dick-like, supports vectorized operations and label alignment"
   ]
  },
  {
   "cell_type": "code",
   "execution_count": null,
   "metadata": {
    "collapsed": false
   },
   "outputs": [],
   "source": [
    "series_one[2:4]"
   ]
  },
  {
   "cell_type": "code",
   "execution_count": null,
   "metadata": {
    "collapsed": false
   },
   "outputs": [],
   "source": [
    "series_one['a']"
   ]
  },
  {
   "cell_type": "code",
   "execution_count": null,
   "metadata": {
    "collapsed": false
   },
   "outputs": [],
   "source": [
    "series_one + series_two"
   ]
  },
  {
   "cell_type": "code",
   "execution_count": null,
   "metadata": {
    "collapsed": false
   },
   "outputs": [],
   "source": [
    "series_one * 3"
   ]
  },
  {
   "cell_type": "markdown",
   "metadata": {},
   "source": [
    "### DataFrame\n",
    "\n",
    "DataFrame is a 2-dimensional labelled data structure, like a spreadsheet or SQL table or a dict of Series objects. Obviously, the most used data structure in Pandas and what we'll be discussing more often."
   ]
  },
  {
   "cell_type": "code",
   "execution_count": null,
   "metadata": {
    "collapsed": false
   },
   "outputs": [],
   "source": [
    "df_one = pd.DataFrame({'one': pd.Series(np.random.rand(5), \n",
    "                                        index=['a', 'b', 'c', 'd' , 'e']),\n",
    "                     'two': pd.Series(np.random.rand(4), \n",
    "                                      index=['a', 'b', 'c', 'e'])})\n",
    "df_one"
   ]
  },
  {
   "cell_type": "markdown",
   "metadata": {},
   "source": [
    "There are several other constructors for creating a DataFrame object\n",
    "- `pd.DataFrame.from_records`\n",
    "- `pd.DataFrame.from_dict`\n",
    "- `pd.DataFrame.from_items`\n",
    "\n",
    "Other Pandas data objects which we are not going to talk about are\n",
    "\n",
    "### Panels (3D, 4D, ND)\n",
    "\n",
    "## IO Tools\n",
    "\n",
    "The Pandas I/O API is a set of nice reader functions which generally return a pandas object\n",
    "\n",
    "### pd.from_csv\n",
    "\n",
    "Some important parameters\n",
    "- **`sep`** - Delimiter\n",
    "- **`index_col`** - Specifies which column to select as index\n",
    "- **`usecols`** - Specify which columns to read when reading a file\n",
    "- **`compression`** - Can handle gzip, bz2 compressed text files\n",
    "- **`comment`** - Comment character\n",
    "- **`names`** - If `header=None`, you can specify the names of columns \n",
    "- **`iterator`** - Return an iterator `TextFileReader` object"
   ]
  },
  {
   "cell_type": "code",
   "execution_count": null,
   "metadata": {
    "collapsed": false
   },
   "outputs": [],
   "source": [
    "iris = pd.read_csv(\"iris.csv\", index_col=0)\n",
    "iris.head()"
   ]
  },
  {
   "cell_type": "markdown",
   "metadata": {},
   "source": [
    "Let's see the power of pandas. We'll use [Gencode v24](http://www.gencodegenes.org/releases/24.html) to demonstrate and read the annotation file."
   ]
  },
  {
   "cell_type": "code",
   "execution_count": null,
   "metadata": {
    "collapsed": false
   },
   "outputs": [],
   "source": [
    "url = \"ftp://ftp.sanger.ac.uk/pub/gencode/Gencode_human/release_24/gencode.v24.primary_assembly.annotation.gtf.gz\"\n",
    "gencode = pd.read_csv(url, compression=\"gzip\", iterator=True, header=None, \n",
    "                      sep=\"\\t\", comment=\"#\", quoting=3, \n",
    "                      usecols=[0, 1, 2, 3, 4, 6])\n",
    "gencode.get_chunk(10)"
   ]
  },
  {
   "cell_type": "markdown",
   "metadata": {},
   "source": [
    "### pd.DataFrame.to_csv\n",
    "\n",
    "Dumps data to a csv file. A lot of optional parameters apply which will help you save the file just like you want.\n",
    "\n",
    "```python\n",
    "iris.to_csv(\"iris_copy.csv\")\n",
    "```\n",
    "\n",
    "### pd.DataFrame.to_hdf\n",
    "\n",
    "```python\n",
    "iris.to_hdf(\"iris_copy.h5\", \"df\")\n",
    "```\n",
    "\n",
    "Creates a HDF5 file (binary indexed file for faster loading and index filtering during load times). Requires `pytables` as a depandency if you want to go full on with it's functionality\n",
    "\n",
    "## Reshaping\n",
    "\n",
    "Almost everyone will be familiar on how much you need to reshape the data if we want to plot it properly. This functionality is also pretty well covered in pandas.\n",
    "\n",
    "- `pd.melt`"
   ]
  },
  {
   "cell_type": "code",
   "execution_count": null,
   "metadata": {
    "collapsed": false
   },
   "outputs": [],
   "source": [
    "planets = pd.read_csv(\"planets.csv\", index_col=0)\n",
    "planets.head()"
   ]
  },
  {
   "cell_type": "code",
   "execution_count": null,
   "metadata": {
    "collapsed": false
   },
   "outputs": [],
   "source": [
    "planets_melt = pd.melt(planets, id_vars=\"method\")\n",
    "planets_melt.head()"
   ]
  },
  {
   "cell_type": "markdown",
   "metadata": {},
   "source": [
    "## Indexing and Selecting Data\n",
    "\n",
    "`pd.DataFrame` and `pd.Series` support basic array-like indexing. To get into detail, it's better to use `.loc` and `.iloc`"
   ]
  },
  {
   "cell_type": "code",
   "execution_count": null,
   "metadata": {
    "collapsed": false
   },
   "outputs": [],
   "source": [
    "heatmap = pd.read_csv(\"Heatmap.tsv\", sep=\"\\t\", index_col=0)\n",
    "heatmap.head(10)"
   ]
  },
  {
   "cell_type": "code",
   "execution_count": null,
   "metadata": {
    "collapsed": false
   },
   "outputs": [],
   "source": [
    "heatmap.iloc[4:8]"
   ]
  },
  {
   "cell_type": "code",
   "execution_count": null,
   "metadata": {
    "collapsed": false
   },
   "outputs": [],
   "source": [
    "heatmap.loc[['prisons', 'jacks', 'irons']]"
   ]
  },
  {
   "cell_type": "markdown",
   "metadata": {},
   "source": [
    "<span class=\"burk\"><span class=\"girk\">Almost forgot, HTML conditional formatting just made it into the latest release `0.17.1` and it's pretty awesome. Use a function to your liking or do it with a background gradient</span></span>"
   ]
  },
  {
   "cell_type": "code",
   "execution_count": null,
   "metadata": {
    "collapsed": false
   },
   "outputs": [],
   "source": [
    "def color_negative_red(val):\n",
    "    \"\"\"\n",
    "    Takes a scalar and returns a string with\n",
    "    the css property `'color: red'` for negative\n",
    "    strings, black otherwise.\n",
    "    \"\"\"\n",
    "    color = 'red' if val < 0 else 'black'\n",
    "    return 'color: %s' % color\n",
    "\n",
    "# Apply the function like this\n",
    "heatmap.head(10).style.applymap(color_negative_red)"
   ]
  },
  {
   "cell_type": "code",
   "execution_count": null,
   "metadata": {
    "collapsed": false
   },
   "outputs": [],
   "source": [
    "heatmap.head(10).style.background_gradient(cmap=\"RdBu_r\")"
   ]
  },
  {
   "cell_type": "markdown",
   "metadata": {
    "collapsed": true
   },
   "source": [
    "## Group-by and apply\n",
    "\n",
    "You can group data (on both axes) based on a criteria. It returns an iterator but you can directly apply a function without the need to iterate through. \n",
    "\n",
    "Remember though, you'll get a new index based on what you group with if you directly apply the function without iterating over the groups.\n",
    "\n",
    "- `pd.DataFrame.groupby`"
   ]
  },
  {
   "cell_type": "code",
   "execution_count": null,
   "metadata": {
    "collapsed": false
   },
   "outputs": [],
   "source": [
    "# No need to iter through to apply mean based on species\n",
    "iris_species_grouped = iris.groupby('species')\n",
    "iris_species_grouped.mean()"
   ]
  },
  {
   "cell_type": "code",
   "execution_count": null,
   "metadata": {
    "collapsed": false,
    "scrolled": false
   },
   "outputs": [],
   "source": [
    "# The previous iterator has reached it's end, so re-initialize\n",
    "iris_species_grouped = iris.groupby('species')\n",
    "\n",
    "for species, group in iris_species_grouped:\n",
    "    display(HTML(species))\n",
    "    display(pd.DataFrame(group.mean(axis=0)).T)"
   ]
  },
  {
   "cell_type": "markdown",
   "metadata": {},
   "source": [
    "### Applying a function\n",
    "\n",
    "- `pd.DataFrame.apply`"
   ]
  },
  {
   "cell_type": "code",
   "execution_count": null,
   "metadata": {
    "collapsed": false
   },
   "outputs": [],
   "source": [
    "pd.DataFrame(iris[[0, 1, 2, 3]].apply(np.std, axis=0)).T"
   ]
  },
  {
   "cell_type": "code",
   "execution_count": null,
   "metadata": {
    "collapsed": false
   },
   "outputs": [],
   "source": [
    "def add_length_width(x):\n",
    "    \"\"\"\n",
    "    Adds up the length and width of the features and returns\n",
    "    a pd.Series object so as to get a pd.DataFrame\n",
    "    \"\"\"\n",
    "    sepal_sum = x['sepal_length'] + x['sepal_width']\n",
    "    petal_sum = x['petal_length'] + x['petal_width']\n",
    "    return pd.Series([sepal_sum, petal_sum, x['species']], \n",
    "                    index=['sepal_sum', 'petal_sum', 'species'])\n",
    "\n",
    "iris.apply(add_length_width, axis=1).head(5)"
   ]
  },
  {
   "cell_type": "markdown",
   "metadata": {},
   "source": [
    "## Filtering (Numeric and String)\n",
    "\n",
    "There's always need for that. Obviously needed float & int filters but exceptional string filtering options baked in... So much good stuff this..\n",
    "\n",
    "Inside the `pd.DataFrame.loc`, you can specify *and* (`&`), *or* (`|`), *not* (`~`) as logical operators. This stuff works and is tested ;)\n",
    "- `>, <, >=, <=`\n",
    "- `str.contains, str.startswith, str.endswith`"
   ]
  },
  {
   "cell_type": "code",
   "execution_count": null,
   "metadata": {
    "collapsed": false
   },
   "outputs": [],
   "source": [
    "iris.loc[iris.sepal_width > 3.5]"
   ]
  },
  {
   "cell_type": "code",
   "execution_count": null,
   "metadata": {
    "collapsed": false
   },
   "outputs": [],
   "source": [
    "iris.loc[(iris.sepal_width > 3.5) & (iris.species == 'virginica')]"
   ]
  },
  {
   "cell_type": "code",
   "execution_count": null,
   "metadata": {
    "collapsed": false
   },
   "outputs": [],
   "source": [
    "heatmap.loc[heatmap.index.str.contains(\"due|ver|ap\")]"
   ]
  },
  {
   "cell_type": "markdown",
   "metadata": {},
   "source": [
    "There is a ton of stuff that can be done in `Pandas`. The online docs is super detailed and amazing. Explore, search, stack overflow it and most probably you'll get what you're looking for. The current version docs (as of this talk) [Pandas v`0.17.1`](http://pandas.pydata.org/pandas-docs/version/0.17.1/)\n",
    "\n",
    "Things that I can't cover because of the time constraints\n",
    "- Plotting - Uses matplotlib as the backend and makes big data analyses/visualization quicker\n",
    "- Lots of mathematical functions to easily use in day to day life"
   ]
  }
 ],
 "metadata": {
  "hide_input": false,
  "kernelspec": {
   "display_name": "Python 3",
   "language": "python",
   "name": "python3"
  },
  "language_info": {
   "codemirror_mode": {
    "name": "ipython",
    "version": 3
   },
   "file_extension": ".py",
   "mimetype": "text/x-python",
   "name": "python",
   "nbconvert_exporter": "python",
   "pygments_lexer": "ipython3",
   "version": "3.5.1"
  },
  "latex_envs": {
   "bibliofile": "biblio.bib",
   "cite_by": "apalike",
   "current_citInitial": 1,
   "eqLabelWithNumbers": true,
   "eqNumInitial": 0
  },
  "toc": {
   "toc_cell": true,
   "toc_number_sections": true,
   "toc_section_display": "none",
   "toc_threshold": 4,
   "toc_window_display": true
  },
  "toc_position": {
   "left": "929.775px",
   "right": "20px",
   "top": "2px",
   "width": "226px"
  }
 },
 "nbformat": 4,
 "nbformat_minor": 0
}
