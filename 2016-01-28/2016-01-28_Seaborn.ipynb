{
 "cells": [
  {
   "cell_type": "markdown",
   "metadata": {
    "toc": "true"
   },
   "source": [
    "# Table of Contents\n",
    " <p><div class=\"lev1\"><a href=\"#Seaborn---Statistical-Data-Visualization\"><span class=\"toc-item-num\">1 - </span><a href=\"http://stanford.edu/~mwaskom/software/seaborn/\" target=\"_blank\">Seaborn</a> - Statistical Data Visualization</a></div><div class=\"lev2\"><a href=\"#Major-plot-types\"><span class=\"toc-item-num\">1.1 - </span>Major plot types</a></div><div class=\"lev3\"><a href=\"#Distribution-plots\"><span class=\"toc-item-num\">1.1.1 - </span>Distribution plots</a></div><div class=\"lev4\"><a href=\"#pairplot\"><span class=\"toc-item-num\">1.1.1.1 - </span><a href=\"http://stanford.edu/~mwaskom/software/seaborn/generated/seaborn.pairplot.html#seaborn.pairplot\" target=\"_blank\">pairplot</a></a></div><div class=\"lev4\"><a href=\"#jointplot\"><span class=\"toc-item-num\">1.1.1.2 - </span><a href=\"http://stanford.edu/~mwaskom/software/seaborn/generated/seaborn.jointplot.html#seaborn.jointplot\" target=\"_blank\">jointplot</a></a></div><div class=\"lev3\"><a href=\"#Regression-plots\"><span class=\"toc-item-num\">1.1.2 - </span>Regression plots</a></div><div class=\"lev4\"><a href=\"#lmplot\"><span class=\"toc-item-num\">1.1.2.1 - </span><a href=\"http://stanford.edu/~mwaskom/software/seaborn/generated/seaborn.lmplot.html#seaborn.lmplot\" target=\"_blank\">lmplot</a></a></div><div class=\"lev3\"><a href=\"#Categorical-plots\"><span class=\"toc-item-num\">1.1.3 - </span>Categorical plots</a></div><div class=\"lev4\"><a href=\"#factorplot\"><span class=\"toc-item-num\">1.1.3.1 - </span><a href=\"http://stanford.edu/~mwaskom/software/seaborn/generated/seaborn.factorplot.html#seaborn.factorplot\" target=\"_blank\">factorplot</a></a></div><div class=\"lev3\"><a href=\"#Matrix-plots\"><span class=\"toc-item-num\">1.1.4 - </span>Matrix plots</a></div><div class=\"lev4\"><a href=\"#clustermap\"><span class=\"toc-item-num\">1.1.4.1 - </span><a href=\"http://stanford.edu/~mwaskom/software/seaborn/generated/seaborn.clustermap.html#seaborn.clustermap\" target=\"_blank\">clustermap</a></a></div><div class=\"lev2\"><a href=\"#Color-Palettes\"><span class=\"toc-item-num\">1.2 - </span>Color Palettes</a></div><div class=\"lev4\"><a href=\"#sns.set_palette\"><span class=\"toc-item-num\">1.2.0.1 - </span><code>sns.set_palette</code></a></div><div class=\"lev4\"><a href=\"#sns.color_palette\"><span class=\"toc-item-num\">1.2.0.2 - </span><code>sns.color_palette</code></a></div>"
   ]
  },
  {
   "cell_type": "markdown",
   "metadata": {},
   "source": [
    "> Usual stuff to import and set"
   ]
  },
  {
   "cell_type": "code",
   "execution_count": null,
   "metadata": {
    "collapsed": false
   },
   "outputs": [],
   "source": [
    "import seaborn as sns\n",
    "import pandas as pd\n",
    "\n",
    "%matplotlib inline\n",
    "%config InlineBackend.figure_format = 'svg'\n",
    "sns.set_context(\"notebook\", font_scale=1.25)\n",
    "sns.set_style(\"ticks\", {\"font.family\": \"Liberation Sans\"})"
   ]
  },
  {
   "cell_type": "markdown",
   "metadata": {},
   "source": [
    "# [Seaborn](http://stanford.edu/~mwaskom/software/seaborn/) - Statistical Data Visualization\n",
    "\n",
    "- If you're a `matplotlib` pro, you probably know how to do everything that `seaborn` does. Only the fact that matplotlib is just so insanely detailed and low level with myriad of options, ***it always is difficult to appreciate how powerful `matplotlib` really is***\n",
    "- Behold `seaborn`, a `Python` package for high level statistical plotting. Before coming across seaborn, I always went back to `ggplot2` for my extensive plotting needs but no more `R` or `ggplot2` as I have found my safe haven\n",
    "- **I cannot do justice to seaborn by writing about its functions and plots here. The documentation is just done so beautifully, you can't miss anything**\n",
    "- Remember [xkcd color survey](https://xkcd.com/color/rgb/), yes they are baked in seaborn to choose from\n",
    "\n",
    "How am I planning to cover seaborn?\n",
    "- There are two major plot types that seaborn does (1. FacetGrid 2. Matplotlib axes). Not every seaborn object returned is a matplotlib axes object but it's mostly grid of multiple matplotlib axes. \n",
    "- Seaborn does one major FacetGrid type plot for every plot type where it has the option to choose the kind of plot. I'll be covering these major FacetGrid type plots which will encompass different plots inside them.\n",
    "\n",
    "## Major plot types\n",
    "\n",
    "Again, this section is from [API reference](http://stanford.edu/~mwaskom/software/seaborn/api.html). I've listed subplots based on what I am going to cover today. \n",
    "\n",
    "### Distribution plots\n",
    "\n",
    "#### [pairplot](http://stanford.edu/~mwaskom/software/seaborn/generated/seaborn.pairplot.html#seaborn.pairplot)\n",
    "\n",
    "- This is scatter matrix visualization made very easy.\n",
    "\n",
    "`sns.pairplot(df)`\n",
    "\n",
    "Some parameters:\n",
    "\n",
    "- `kind`: `{'scatter', 'reg'}`\n",
    "- `diag_kind`: `{'hist', 'kde'}`\n",
    "- `hue` : Select column to apply color by"
   ]
  },
  {
   "cell_type": "code",
   "execution_count": null,
   "metadata": {
    "collapsed": false
   },
   "outputs": [],
   "source": [
    "iris = pd.read_csv(\"iris.csv\", index_col=0)\n",
    "iris.head()"
   ]
  },
  {
   "cell_type": "code",
   "execution_count": null,
   "metadata": {
    "collapsed": false
   },
   "outputs": [],
   "source": [
    "g = sns.pairplot(iris, hue=\"species\", diag_kind=\"kde\")"
   ]
  },
  {
   "cell_type": "markdown",
   "metadata": {},
   "source": [
    "#### [jointplot](http://stanford.edu/~mwaskom/software/seaborn/generated/seaborn.jointplot.html#seaborn.jointplot)\n",
    "\n",
    "- Scatterplot on steriods. Provides variants like hexagonal bins, density estimates apart from scatter. Provides linear regression plots with annotation.  Mix and match ;)\n",
    "\n",
    "`sns.jointplot(data=df, x=\"\", y=\"\")`\n",
    "\n",
    "Some parameters:\n",
    "\n",
    "- `kind` : `{ “scatter” | “reg” | “resid” | “kde” | “hex” }`, optional\n",
    "  - This is the one you change if you want a different plot"
   ]
  },
  {
   "cell_type": "code",
   "execution_count": null,
   "metadata": {
    "collapsed": false
   },
   "outputs": [],
   "source": [
    "g = sns.jointplot(data=iris, x=\"sepal_length\", y=\"sepal_width\")"
   ]
  },
  {
   "cell_type": "code",
   "execution_count": null,
   "metadata": {
    "collapsed": false
   },
   "outputs": [],
   "source": [
    "from scipy.stats import spearmanr\n",
    "g = sns.jointplot(data=iris, x=\"sepal_length\", y=\"sepal_width\",\n",
    "                 kind=\"kde\", stat_func=spearmanr)"
   ]
  },
  {
   "cell_type": "markdown",
   "metadata": {},
   "source": [
    "### Regression plots\n",
    "\n",
    "#### [lmplot](http://stanford.edu/~mwaskom/software/seaborn/generated/seaborn.lmplot.html#seaborn.lmplot)\n",
    "\n",
    "This is a grid plot to fit regression across subsets of dataset\n",
    "\n",
    "`sns.lmplot(data=df, x=\"\", y=\"\")`\n",
    "\n",
    "Some parameters:\n",
    "\n",
    "- `col` - Separately plot forming different columns of plot based on this column\n",
    "- `row` - Separately plot forming different rows of plot based on this column\n",
    "- `fit_reg` - Default `True`, If you don't want regression, add `False` here"
   ]
  },
  {
   "cell_type": "code",
   "execution_count": null,
   "metadata": {
    "collapsed": false
   },
   "outputs": [],
   "source": [
    "sepal_lmplot = sns.lmplot(data=iris, fit_reg=False, x=\"sepal_length\", y=\"sepal_width\", \n",
    "           col=\"species\", scatter_kws={'s': 25}, size=3.05).set_xticklabels(rotation=90)"
   ]
  },
  {
   "cell_type": "code",
   "execution_count": null,
   "metadata": {
    "collapsed": false
   },
   "outputs": [],
   "source": [
    "petal_lmplot = sns.lmplot(data=iris, fit_reg=False, x=\"petal_length\", y=\"petal_width\", \n",
    "           col=\"species\", scatter_kws={'s': 25}, size=3.05).set_xticklabels(rotation=90)"
   ]
  },
  {
   "cell_type": "markdown",
   "metadata": {},
   "source": [
    "### Categorical plots\n",
    "\n",
    "#### [factorplot](http://stanford.edu/~mwaskom/software/seaborn/generated/seaborn.factorplot.html#seaborn.factorplot)\n",
    "\n",
    "`sns.factorplot(data=df, x=\"\", y=\"\")`\n",
    "\n",
    "Really powerful and versatile.\n",
    "\n",
    "Some parameters:\n",
    "\n",
    "- `kind : {point, bar, count, box, violin, strip}`"
   ]
  },
  {
   "cell_type": "code",
   "execution_count": null,
   "metadata": {
    "collapsed": false
   },
   "outputs": [],
   "source": [
    "planets = pd.read_csv(\"planets.csv\", index_col=0)\n",
    "planets.head()"
   ]
  },
  {
   "cell_type": "code",
   "execution_count": null,
   "metadata": {
    "collapsed": false
   },
   "outputs": [],
   "source": [
    "planets_factorplot = sns.factorplot(kind=\"strip\", jitter=True, \n",
    "    data=planets[planets.method==\"Radial Velocity\"].sort_values(by=\"year\"),\n",
    "    col=\"method\", x=\"year\", y=\"orbital_period\", color=sns.xkcd_rgb[\"warm blue\"], \n",
    "    size=5, aspect=1.8)\n",
    "_ = planets_factorplot.set_xticklabels(rotation=90).set(ylim=0, yscale=\"log\")"
   ]
  },
  {
   "cell_type": "code",
   "execution_count": null,
   "metadata": {
    "collapsed": false
   },
   "outputs": [],
   "source": [
    "planets_factorplot = sns.factorplot(kind=\"box\",  \n",
    "    data=planets[planets.method==\"Radial Velocity\"].sort_values(by=\"year\"),\n",
    "    col=\"method\", x=\"year\", y=\"orbital_period\", color=sns.xkcd_rgb[\"green apple\"], \n",
    "    size=5, aspect=1.8)\n",
    "_ = planets_factorplot.set_xticklabels(rotation=90).set(ylim=0, yscale=\"log\")"
   ]
  },
  {
   "cell_type": "markdown",
   "metadata": {},
   "source": [
    "### Matrix plots\n",
    "\n",
    "#### [clustermap](http://stanford.edu/~mwaskom/software/seaborn/generated/seaborn.clustermap.html#seaborn.clustermap)\n",
    "\n",
    "Heatmap with clustering. Damn easy and beautiful\n",
    "\n",
    "Some parameters:\n",
    "\n",
    "- `z_score`: optional, Calculate z_score if specified.\n",
    "- `{row,col}_cluster` : bool, optional. Whether to cluster by rows and columns. Enabled by default\n",
    "- `{row,col}_colors` : list-like, optional. Useful to add colors to columns or rows and check whether stuff is clustering according to condition and stuff"
   ]
  },
  {
   "cell_type": "code",
   "execution_count": null,
   "metadata": {
    "collapsed": false
   },
   "outputs": [],
   "source": [
    "tpm_filtered = pd.read_table(\"Heatmap.tsv\", sep=\"\\t\", index_col=0)"
   ]
  },
  {
   "cell_type": "code",
   "execution_count": null,
   "metadata": {
    "collapsed": false,
    "scrolled": false
   },
   "outputs": [],
   "source": [
    "# Classic green and red colors for heatmap\n",
    "cmap = sns.diverging_palette(133, 10, n=13, center=\"dark\", as_cmap=True)\n",
    "\n",
    "# Providing column colors. Awesome xkcd colors integration in seaborn\n",
    "col_colors = [sns.xkcd_rgb[\"amber\"]]*4 + [sns.xkcd_rgb[\"windows blue\"]]*4\n",
    "\n",
    "# Clustermap function\n",
    "clustermap = sns.clustermap(tpm_filtered.sample(30), cmap=cmap, z_score=0,\n",
    "                         figsize=(6,9), col_colors=col_colors)\n",
    "\n",
    "# Just to set x axis ticks rotation to 0, by default it is 90\n",
    "ax = clustermap.ax_heatmap\n",
    "labels = ax.get_yticklabels()\n",
    "_ = ax.set_yticklabels(labels, rotation=0)"
   ]
  },
  {
   "cell_type": "markdown",
   "metadata": {},
   "source": [
    "## Color Palettes\n",
    "\n",
    "Another very interesting and easy to use feature. Remember the xkcd color names, actually you can create a color palette from any list of colors. Just like you would do in `RColorBrewer` but pythonic.\n",
    "\n",
    "#### `sns.set_palette`\n",
    "\n",
    "Set the default palette to use for the subsequent plotting.\n",
    "\n",
    "```python\n",
    "sns.set_palette(\"Accent\")\n",
    "```\n",
    "\n",
    "#### `sns.color_palette`\n",
    "\n",
    "The function to create color palettes from colors and matplotlib cmaps"
   ]
  },
  {
   "cell_type": "code",
   "execution_count": null,
   "metadata": {
    "collapsed": false
   },
   "outputs": [],
   "source": [
    "sns.palplot(sns.color_palette(\"Set1\", n_colors=8, desat=.5))"
   ]
  },
  {
   "cell_type": "code",
   "execution_count": null,
   "metadata": {
    "collapsed": false
   },
   "outputs": [],
   "source": [
    "flatui = [\"#9b59b6\", \"#3498db\", \"#95a5a6\", \"#e74c3c\", \"#34495e\", \"#2ecc71\"]\n",
    "sns.palplot(sns.color_palette(flatui))"
   ]
  },
  {
   "cell_type": "markdown",
   "metadata": {},
   "source": [
    "There are a lot of color palette options from diverging, dark, light to custom. Explore and select what you like and be picky. After all, your plots define you ;)"
   ]
  }
 ],
 "metadata": {
  "hide_input": false,
  "kernelspec": {
   "display_name": "Python 3",
   "language": "python",
   "name": "python3"
  },
  "language_info": {
   "codemirror_mode": {
    "name": "ipython",
    "version": 3
   },
   "file_extension": ".py",
   "mimetype": "text/x-python",
   "name": "python",
   "nbconvert_exporter": "python",
   "pygments_lexer": "ipython3",
   "version": "3.5.1"
  },
  "latex_envs": {
   "bibliofile": "biblio.bib",
   "cite_by": "apalike",
   "current_citInitial": 1,
   "eqLabelWithNumbers": true,
   "eqNumInitial": 0
  },
  "toc": {
   "toc_cell": true,
   "toc_number_sections": true,
   "toc_threshold": 4,
   "toc_window_display": false
  }
 },
 "nbformat": 4,
 "nbformat_minor": 0
}
