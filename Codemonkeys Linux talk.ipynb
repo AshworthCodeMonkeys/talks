{
 "cells": [
  {
   "cell_type": "markdown",
   "metadata": {},
   "source": [
    "# Stuff I learned while writing a Linux course\n",
    "\n",
    "## Codemonkeys 04/08/16\n",
    "\n",
    "### Jupyter with a bash kernel\n",
    "\n",
    "Install from here:\n",
    "\n",
    "https://github.com/takluyver/bash_kernel\n",
    "\n",
    "works as described:"
   ]
  },
  {
   "cell_type": "code",
   "execution_count": 3,
   "metadata": {
    "collapsed": false
   },
   "outputs": [
    {
     "name": "stdout",
     "output_type": "stream",
     "text": [
      "\u001b[0m\u001b[01;34mbackups\u001b[0m  \u001b[30;42mcrash\u001b[0m  \u001b[01;34mlocal\u001b[0m  \u001b[01;34mlog\u001b[0m   \u001b[30;42mmetrics\u001b[0m  \u001b[01;36mrun\u001b[0m    \u001b[30;42mtmp\u001b[0m\r\n",
      "\u001b[01;34mcache\u001b[0m    \u001b[01;34mlib\u001b[0m    \u001b[01;36mlock\u001b[0m   \u001b[01;34mmail\u001b[0m  \u001b[01;34mopt\u001b[0m      \u001b[01;34mspool\u001b[0m\r\n"
     ]
    }
   ],
   "source": [
    "ls /var"
   ]
  },
  {
   "cell_type": "markdown",
   "metadata": {},
   "source": [
    "### `tree` outputs directory structures to the terminal"
   ]
  },
  {
   "cell_type": "code",
   "execution_count": 5,
   "metadata": {
    "collapsed": false
   },
   "outputs": [
    {
     "name": "stdout",
     "output_type": "stream",
     "text": [
      "\u001b[01;34m/home/martin/Dropbox/Code/Axelrod_stuff/Axelrod\u001b[00m\r\n",
      "├── [110K]  \u001b[01;34maxelrod\u001b[00m\r\n",
      "│   ├── [ 249]  actions.py\r\n",
      "│   ├── [4.3K]  deterministic_cache.py\r\n",
      "│   ├── [3.0K]  ecosystem.py\r\n",
      "│   ├── [2.2K]  eigen.py\r\n",
      "│   ├── [ 950]  game.py\r\n",
      "│   ├── [ 643]  __init__.py\r\n",
      "│   ├── [3.3K]  interaction_utils.py\r\n",
      "│   ├── [4.8K]  match_generator.py\r\n",
      "│   ├── [4.8K]  match.py\r\n",
      "│   ├── [1.4K]  mock_player.py\r\n",
      "│   ├── [4.3K]  moran.py\r\n",
      "│   ├── [4.8K]  player.py\r\n",
      "│   ├── [9.6K]  plot.py\r\n",
      "│   ├── [ 528]  random_.py\r\n",
      "│   ├── [ 26K]  result_set.py\r\n",
      "│   ├── [4.0K]  \u001b[01;34mstrategies\u001b[00m\r\n",
      "│   ├── [ 11K]  strategy_transformers.py\r\n",
      "│   ├── [4.2K]  _strategy_utils.py\r\n",
      "│   ├── [4.0K]  \u001b[01;34mtests\u001b[00m\r\n",
      "│   └── [ 12K]  tournament.py\r\n",
      "├── [1.9K]  CHANGES.txt\r\n",
      "├── [ 644]  CITATION.rst\r\n",
      "├── [ 33K]  \u001b[01;34mdocs\u001b[00m\r\n",
      "│   ├── [ 333]  citing_the_library.rst\r\n",
      "│   ├── [8.4K]  conf.py\r\n",
      "│   ├── [1.9K]  index.rst\r\n",
      "│   ├── [6.6K]  Makefile\r\n",
      "│   ├── [4.0K]  \u001b[01;34mreference\u001b[00m\r\n",
      "│   ├── [   0]  requirements.txt\r\n",
      "│   ├── [4.0K]  \u001b[01;34m_static\u001b[00m\r\n",
      "│   └── [4.0K]  \u001b[01;34mtutorials\u001b[00m\r\n",
      "├── [ 333]  doctests.py\r\n",
      "├── [1.1K]  LICENSE.txt\r\n",
      "├── [  43]  MANIFEST.in\r\n",
      "├── [6.0K]  README.rst\r\n",
      "├── [  88]  requirements.txt\r\n",
      "├── [ 578]  setup.py\r\n",
      "└── [1.6K]  \u001b[01;32mtest\u001b[00m\r\n",
      "\r\n",
      " 159K used in 7 directories, 32 files\r\n"
     ]
    }
   ],
   "source": [
    "# first apt-get install tree\n",
    "tree -L 2 -h --du ~/Dropbox/Code/Axelrod_stuff/Axelrod"
   ]
  },
  {
   "cell_type": "markdown",
   "metadata": {},
   "source": [
    "### There's a `-t` threshold option for du"
   ]
  },
  {
   "cell_type": "code",
   "execution_count": 12,
   "metadata": {
    "collapsed": false
   },
   "outputs": [
    {
     "name": "stdout",
     "output_type": "stream",
     "text": [
      "12\u001b[01;31m\u001b[KG\u001b[m\u001b[K\t/home/martin/.local/share\r\n",
      "12\u001b[01;31m\u001b[KG\u001b[m\u001b[K\t/home/martin/.local\r\n",
      "7.7\u001b[01;31m\u001b[KG\u001b[m\u001b[K\t/home/martin/Dropbox/Photos\r\n",
      "11\u001b[01;31m\u001b[KG\u001b[m\u001b[K\t/home/martin/Dropbox/Jane's dropbox\r\n",
      "25\u001b[01;31m\u001b[KG\u001b[m\u001b[K\t/home/martin/Dropbox/archived\r\n",
      "5.9\u001b[01;31m\u001b[KG\u001b[m\u001b[K\t/home/martin/Dropbox/projects\r\n",
      "4.1\u001b[01;31m\u001b[KG\u001b[m\u001b[K\t/home/martin/Dropbox/Code\r\n",
      "4.4\u001b[01;31m\u001b[KG\u001b[m\u001b[K\t/home/martin/Dropbox/downloads\r\n",
      "3.7\u001b[01;31m\u001b[KG\u001b[m\u001b[K\t/home/martin/Dropbox/python_for_biologists\r\n",
      "1.5\u001b[01;31m\u001b[KG\u001b[m\u001b[K\t/home/martin/Dropbox/science\r\n",
      "2.1\u001b[01;31m\u001b[KG\u001b[m\u001b[K\t/home/martin/Dropbox/Camera Uploads\r\n",
      "66\u001b[01;31m\u001b[KG\u001b[m\u001b[K\t/home/martin/Dropbox\r\n",
      "1.3\u001b[01;31m\u001b[KG\u001b[m\u001b[K\t/home/martin/Desktop/files\r\n",
      "1.5\u001b[01;31m\u001b[KG\u001b[m\u001b[K\t/home/martin/Desktop\r\n",
      "2.1\u001b[01;31m\u001b[KG\u001b[m\u001b[K\t/home/martin/.steam/steam\r\n",
      "312K\t/home/martin/.steam/WINDOWSTEMPDIR_FONTCONFI\u001b[01;31m\u001b[KG\u001b[m\u001b[K_CACHE\r\n",
      "1.2\u001b[01;31m\u001b[KG\u001b[m\u001b[K\t/home/martin/.steam/ubuntu12_32\r\n",
      "3.8\u001b[01;31m\u001b[KG\u001b[m\u001b[K\t/home/martin/.steam\r\n",
      "2.5\u001b[01;31m\u001b[KG\u001b[m\u001b[K\t/home/martin/Downloads/get_iplayer-2.94\r\n",
      "6.5\u001b[01;31m\u001b[KG\u001b[m\u001b[K\t/home/martin/Downloads\r\n",
      "94\u001b[01;31m\u001b[KG\u001b[m\u001b[K\t/home/martin\r\n"
     ]
    }
   ],
   "source": [
    "#rather than this...\n",
    "du -h --max-depth 2 ~ | grep G"
   ]
  },
  {
   "cell_type": "code",
   "execution_count": 14,
   "metadata": {
    "collapsed": false
   },
   "outputs": [
    {
     "name": "stdout",
     "output_type": "stream",
     "text": [
      "12G\t/home/martin/.local/share\r\n",
      "12G\t/home/martin/.local\r\n",
      "7.7G\t/home/martin/Dropbox/Photos\r\n",
      "11G\t/home/martin/Dropbox/Jane's dropbox\r\n",
      "25G\t/home/martin/Dropbox/archived\r\n",
      "5.9G\t/home/martin/Dropbox/projects\r\n",
      "66G\t/home/martin/Dropbox\r\n",
      "6.5G\t/home/martin/Downloads\r\n",
      "94G\t/home/martin\r\n"
     ]
    }
   ],
   "source": [
    "# ...do this\n",
    "du -h --max-depth 2 -t 5G ~"
   ]
  },
  {
   "cell_type": "markdown",
   "metadata": {},
   "source": [
    "### You can get crude memory benchmarking with `/usr/bin/time -v`\n",
    "\n",
    "For some reason that I don't fully understand, you have to give the full path to `time` for this to work:"
   ]
  },
  {
   "cell_type": "code",
   "execution_count": 15,
   "metadata": {
    "collapsed": false
   },
   "outputs": [
    {
     "name": "stdout",
     "output_type": "stream",
     "text": [
      "398027684033796659235430720619120245370477278049242593871342686565238635974930057042676009749975595510836461137504912702831400376935319143621753470415827025981215282426893498224826615977707595539466961019588699726772279731941315198182787264034852821200164566127930390710398182979935327718016873784821349516406114982916691867361875370024545872140793827277482562824192439237801588697814168520338650090909697535966525032757049430286459482977357373598020450589927318365663076719136934132593126761906696003770385305284570331119691001526584347722012386381881779425549210851696458253943578557699072154639655630793883941961378971846841113804188730258903839103669626086974468150655710480841592465655211805257863007811676888839555017536731758113448656752514158601444051645154665514388431619042396106716755762338728183461369854648923972904427556158821823778729193111453445844216979095435045778144571378954652122396061615147642540250745857228893999875491625014946013839340891326060933901036249999238637827577774666644809734033861619420363936465178730919233673114244563915058438996625834112132967998495576249320462871747777012165543887156255858358784852335060574881876552025685704823768078710818951860741379429242110855644973977420413810373514584504006896392675854997866870818564207239083874324953871276375716101506575153205747363963740749867514682619756775534507006871485887812402927738227576635284174246988540785975240020481266853076127172228024330561550120182008777598230542033702463408316671120886169260934006805799864598636311179787776738608992346063063099659648279663878174074787179237169752957046404584525301384153358344055908219695854852185210739761460551596658211013159915409566145426809737550417578228465835830890294497535463112081537672664056891624345779311524560019984315456142126282898486728345004767873499752683471409587367450593302392307908004590644754012537113320493601682133709318222647489080531644015321391157387178232154126828007760313716872242209614200967522180475716199973689467714010404673961454146466045855232217196687665143147612199151921277432309700460321430381533385245877431330533479476152339364503436322919665631042328740463612565842560411947020174006507893396276103834436233140915025391014386119201176462659556388343058600326710618903683746516577021214276933289179021059956925949717956040857979165914170970056212869933593589268626151996676594370800885093048230687152803213254735594741799076039453057272319884322341883241036382617598401889439130301876975498681736174215711287053447013711596004574803562701388246822510391522419061320663740921321754344166744899588160649291823535983386025904942040724581017615968429577015808090360968544059204594200069304612417366398776831532265596224715750301792207725607932534543693758772262010387360435567635232718343420679693057360004073679493008945813961012439574397373178636054628207647520675194420244271036343729318858430871461978866964772362057290577326080664463129657590249859748544101333842092713653096656066266827446079145590196644643417403723220085696202719321533233027169599734928971588850348415000070034027025298183104148343980297663148971586607903771717880683175436445585810610546882073571556162324659351310326560804448974229349743425637164834242799991427145050899469511954834774847172360693568437689147399455672090773686782511054291185172381917008889957645311339950993044779783607140593766508017935992581357858306525303783231752425242008347844867988333025417249944092118578113687403158162707075154006053416374075765162668533127078605316562826337193606242535290683224423660462222408680300498714149607265550441220738075941633988435051594487256802874182264814425923111193188280632013127802897889605338783089532740877202304122498193625454768343775535498872821099981620497070810489137457106892573248498734243717184800822956334469415666818858073218653977954309023182851723246522042792401461382001601920501284439325214084210736400630884929942272982943613708123011355260915545831043160243523599372006226150289664982113944898886610710824955096724626895416484521819026132177640598691658035986285376355033719094568083122219345722063613609779158338084375331431276527548482566210071347744541292871876134764249704859840950276227627328897424208932988115108907187647698491814375639614313178092528678007370045871748218421786396197284213209022623762734630836006864192414605237248983289006905268988475197599781524158913583701325199090352274252608342971303907669363045656232183978755853064004010895030834921988601355201181158877254807798058635127708445592064519563115094749276606697559529332807221414021024905241788974917755034700510432039890197393691722911126889174394312127254793141624975830429097997705531781908242083922068769027355129212617244130640289994777413026624013157329948333586377955103195844817163822484232700763859290253400376515701986753596890075818544485475785780031843579065754095099970940504640212850809997051128976563880886392410766321449987529690463262182894272302749154535447233331028841215215533602398281107050696017507827602761547816324743297938177204183765821117818869959795031848201322436053103778993541384779857262311465895754085538371969040922420936915076653500310175006188572019017358300979056992161958286882575984331858170857303361269891312794369244896540323192451678830668180455059289743580640736076233561935888109525845803125912388965524166819855977061399043499229843517930169118036812460794615667808961600389778306540324849286501515292799391304510997298128228258006156017389878086272789993321416349205921635696963703558971391123174877353757536774013315034956942784403824181551741629180658414081905650333672638983416786388095026169496605199749691595798835947189777822765198767949699778106683862989103096006505865271003566346191382406011673958404009194852110016915222433459641787170917872140367871023596464051647947388580570774462304347896201676197195521428782313608583714399238092208362933211302942806480175589402387976531080436906856834377344137698180789562645974374155400497754843905032231188252125802180353577510519869570675234892321663406309375\r\n",
      "\tCommand being timed: \"python -c print(sum([2 ** x for x in range(20000)]))\"\r\n",
      "\tUser time (seconds): 0.69\r\n",
      "\tSystem time (seconds): 0.02\r\n",
      "\tPercent of CPU this job got: 99%\r\n",
      "\tElapsed (wall clock) time (h:mm:ss or m:ss): 0:00.72\r\n",
      "\tAverage shared text size (kbytes): 0\r\n",
      "\tAverage unshared data size (kbytes): 0\r\n",
      "\tAverage stack size (kbytes): 0\r\n",
      "\tAverage total size (kbytes): 0\r\n",
      "\tMaximum resident set size (kbytes): 34580\r\n",
      "\tAverage resident set size (kbytes): 0\r\n",
      "\tMajor (requiring I/O) page faults: 0\r\n",
      "\tMinor (reclaiming a frame) page faults: 7646\r\n",
      "\tVoluntary context switches: 1\r\n",
      "\tInvoluntary context switches: 13\r\n",
      "\tSwaps: 0\r\n",
      "\tFile system inputs: 0\r\n",
      "\tFile system outputs: 0\r\n",
      "\tSocket messages sent: 0\r\n",
      "\tSocket messages received: 0\r\n",
      "\tSignals delivered: 0\r\n",
      "\tPage size (bytes): 4096\r\n",
      "\tExit status: 0\r\n"
     ]
    }
   ],
   "source": [
    "# how much memory does it take to calculate the sum of the first twenty thousand square numbers in python?\n",
    "/usr/bin/time -v python -c 'print(sum([2 ** x for x in range(20000)]))'"
   ]
  },
  {
   "cell_type": "markdown",
   "metadata": {},
   "source": [
    "### Use `sort -u` to filter rows that are unique on a particular combination of columns"
   ]
  },
  {
   "cell_type": "code",
   "execution_count": 33,
   "metadata": {
    "collapsed": false
   },
   "outputs": [
    {
     "name": "stdout",
     "output_type": "stream",
     "text": [
      "Pinus_lambertiana\tPlants\tLand_Plants\t27602.7\r\n",
      "Homo_sapiens\tAnimals\tMammals\t6503.44\r\n",
      "Locusta_migratoria\tAnimals\tInsects\t5759.8\r\n",
      "Parhyale_hawaiensis\tAnimals\tOther_Animals\t4023.76\r\n",
      "Salmo_salar\tAnimals\tFishes\t2966.89\r\n",
      "Gekko_japonicus\tAnimals\tReptiles\t2490.27\r\n",
      "Nanorana_parkeri\tAnimals\tAmphibians\t2053.85\r\n",
      "Aquila_chrysaetos_canadensis\tAnimals\tBirds\t1548.48\r\n",
      "Fasciola_hepatica\tAnimals\tFlatworms\t1275.11\r\n",
      "Symbiodinium_minutum_Mf_1.05b.01\tProtists\tOther_Protists\t609.476\r\n",
      "Heligmosomoides_polygyrus\tAnimals\tRoundworms\t560.662\r\n",
      "Saccharina_japonica\tOther\tOther\t543.426\r\n",
      "Cymbomonas_tetramitiformis\tPlants\tGreen_Algae\t281.27\r\n",
      "Uromyces_viciae-fabae\tFungi\tBasidiomycetes\t215.71\r\n",
      "Blumeria_graminis_f._sp._tritici_96224\tFungi\tAscomycetes\t158.945\r\n",
      "Rhizophagus_irregularis_DAOM_197198w\tFungi\tOther_Fungi\t140.696\r\n",
      "Sarcocystis_neurona\tProtists\tApicomplexans\t130.023\r\n",
      "Klebsormidium_flaccidum\tPlants\tOther_Plants\t104.21\r\n",
      "Trypanosoma_cruzi\tProtists\tKinetoplasts\t89.9375\r\n"
     ]
    }
   ],
   "source": [
    "# biggest genome size from each major group?\n",
    "# cut name, kingdom, group, size\n",
    "# sort to get biggest first\n",
    "# sort unique by grou name\n",
    "# sort again by size\n",
    "cut -f 1,5,6,7 eukaryotes.tsv | sort -k 4 -r -n | sort -u -k3,3 | sort -k 4 -r -n"
   ]
  },
  {
   "cell_type": "markdown",
   "metadata": {},
   "source": [
    "### Use `column -t` to align output from tabular data"
   ]
  },
  {
   "cell_type": "code",
   "execution_count": 34,
   "metadata": {
    "collapsed": false
   },
   "outputs": [
    {
     "name": "stdout",
     "output_type": "stream",
     "text": [
      "Pinus_lambertiana                       Plants    Land_Plants     27602.7\r\n",
      "Homo_sapiens                            Animals   Mammals         6503.44\r\n",
      "Locusta_migratoria                      Animals   Insects         5759.8\r\n",
      "Parhyale_hawaiensis                     Animals   Other_Animals   4023.76\r\n",
      "Salmo_salar                             Animals   Fishes          2966.89\r\n",
      "Gekko_japonicus                         Animals   Reptiles        2490.27\r\n",
      "Nanorana_parkeri                        Animals   Amphibians      2053.85\r\n",
      "Aquila_chrysaetos_canadensis            Animals   Birds           1548.48\r\n",
      "Fasciola_hepatica                       Animals   Flatworms       1275.11\r\n",
      "Symbiodinium_minutum_Mf_1.05b.01        Protists  Other_Protists  609.476\r\n",
      "Heligmosomoides_polygyrus               Animals   Roundworms      560.662\r\n",
      "Saccharina_japonica                     Other     Other           543.426\r\n",
      "Cymbomonas_tetramitiformis              Plants    Green_Algae     281.27\r\n",
      "Uromyces_viciae-fabae                   Fungi     Basidiomycetes  215.71\r\n",
      "Blumeria_graminis_f._sp._tritici_96224  Fungi     Ascomycetes     158.945\r\n",
      "Rhizophagus_irregularis_DAOM_197198w    Fungi     Other_Fungi     140.696\r\n",
      "Sarcocystis_neurona                     Protists  Apicomplexans   130.023\r\n",
      "Klebsormidium_flaccidum                 Plants    Other_Plants    104.21\r\n",
      "Trypanosoma_cruzi                       Protists  Kinetoplasts    89.9375\r\n"
     ]
    }
   ],
   "source": [
    "# biggest genome size from each major group?\n",
    "cut -f 1,5,6,7 eukaryotes.tsv | sort -k 4 -r -n | sort -u -k3,3 | sort -k 4 -r -n | column -t"
   ]
  },
  {
   "cell_type": "markdown",
   "metadata": {},
   "source": [
    "### Use `bashplotlib` to make crude command line charts"
   ]
  },
  {
   "cell_type": "code",
   "execution_count": 37,
   "metadata": {
    "collapsed": false
   },
   "outputs": [
    {
     "name": "stdout",
     "output_type": "stream",
     "text": [
      "\r\n",
      " 191| \u001b[39m \u001b[39m\u001b[39mo\u001b[39m\u001b[39m \u001b[39m\u001b[39m \u001b[39m\u001b[39m \u001b[39m\u001b[39m \u001b[39m\u001b[39m \u001b[39m\u001b[39m \u001b[39m\u001b[39m \u001b[39m\u001b[39m \u001b[39m\u001b[39m \u001b[39m\u001b[39m \u001b[39m\u001b[39m \u001b[39m\u001b[39m \u001b[39m\u001b[39m \u001b[39m\u001b[39m \u001b[39m\u001b[39m \u001b[39m\u001b[39m \u001b[39m\u001b[39m \u001b[39m\u001b[39m \u001b[39m\u001b[39m \u001b[39m\u001b[39m \u001b[39m\u001b[39m \u001b[39m\u001b[39m \u001b[39m\u001b[39m \u001b[39m\u001b[39m \u001b[39m\u001b[39m \u001b[39m\u001b[39m \u001b[39m\u001b[39m \u001b[39m\u001b[39m \u001b[39m\u001b[39m \u001b[39m\u001b[39m \u001b[39m\u001b[39m \u001b[39m\u001b[39m \u001b[39m\u001b[39m \u001b[39m\u001b[39m \u001b[39m\u001b[39m \u001b[39m\u001b[39m \u001b[39m\u001b[39m \u001b[39m\u001b[39m \u001b[39m\u001b[39m \u001b[39m\u001b[39m \u001b[39m\u001b[39m \u001b[39m\u001b[39m \u001b[39m\u001b[39m \u001b[39m\u001b[39m \u001b[39m\u001b[39m \u001b[39m\u001b[39m \u001b[39m\u001b[39m \u001b[39m\u001b[39m \u001b[39m\u001b[39m \u001b[39m\r\n",
      " 181| \u001b[39m \u001b[39m\u001b[39mo\u001b[39m\u001b[39m \u001b[39m\u001b[39m \u001b[39m\u001b[39m \u001b[39m\u001b[39m \u001b[39m\u001b[39m \u001b[39m\u001b[39m \u001b[39m\u001b[39m \u001b[39m\u001b[39m \u001b[39m\u001b[39m \u001b[39m\u001b[39m \u001b[39m\u001b[39m \u001b[39m\u001b[39m \u001b[39m\u001b[39m \u001b[39m\u001b[39m \u001b[39m\u001b[39m \u001b[39m\u001b[39m \u001b[39m\u001b[39m \u001b[39m\u001b[39m \u001b[39m\u001b[39m \u001b[39m\u001b[39m \u001b[39m\u001b[39m \u001b[39m\u001b[39m \u001b[39m\u001b[39m \u001b[39m\u001b[39m \u001b[39m\u001b[39m \u001b[39m\u001b[39m \u001b[39m\u001b[39m \u001b[39m\u001b[39m \u001b[39m\u001b[39m \u001b[39m\u001b[39m \u001b[39m\u001b[39m \u001b[39m\u001b[39m \u001b[39m\u001b[39m \u001b[39m\u001b[39m \u001b[39m\u001b[39m \u001b[39m\u001b[39m \u001b[39m\u001b[39m \u001b[39m\u001b[39m \u001b[39m\u001b[39m \u001b[39m\u001b[39m \u001b[39m\u001b[39m \u001b[39m\u001b[39m \u001b[39m\u001b[39m \u001b[39m\u001b[39m \u001b[39m\u001b[39m \u001b[39m\u001b[39m \u001b[39m\u001b[39m \u001b[39m\u001b[39m \u001b[39m\u001b[39m \u001b[39m\r\n",
      " 171| \u001b[39m \u001b[39m\u001b[39mo\u001b[39m\u001b[39m \u001b[39m\u001b[39m \u001b[39m\u001b[39m \u001b[39m\u001b[39m \u001b[39m\u001b[39m \u001b[39m\u001b[39m \u001b[39m\u001b[39m \u001b[39m\u001b[39m \u001b[39m\u001b[39m \u001b[39m\u001b[39m \u001b[39m\u001b[39m \u001b[39m\u001b[39m \u001b[39m\u001b[39m \u001b[39m\u001b[39m \u001b[39m\u001b[39m \u001b[39m\u001b[39m \u001b[39m\u001b[39m \u001b[39m\u001b[39m \u001b[39m\u001b[39m \u001b[39m\u001b[39m \u001b[39m\u001b[39m \u001b[39m\u001b[39m \u001b[39m\u001b[39m \u001b[39m\u001b[39m \u001b[39m\u001b[39m \u001b[39m\u001b[39m \u001b[39m\u001b[39m \u001b[39m\u001b[39m \u001b[39m\u001b[39m \u001b[39m\u001b[39m \u001b[39m\u001b[39m \u001b[39m\u001b[39m \u001b[39m\u001b[39m \u001b[39m\u001b[39m \u001b[39m\u001b[39m \u001b[39m\u001b[39m \u001b[39m\u001b[39m \u001b[39m\u001b[39m \u001b[39m\u001b[39m \u001b[39m\u001b[39m \u001b[39m\u001b[39m \u001b[39m\u001b[39m \u001b[39m\u001b[39m \u001b[39m\u001b[39m \u001b[39m\u001b[39m \u001b[39m\u001b[39m \u001b[39m\u001b[39m \u001b[39m\u001b[39m \u001b[39m\u001b[39m \u001b[39m\r\n",
      " 161| \u001b[39m \u001b[39m\u001b[39mo\u001b[39m\u001b[39m \u001b[39m\u001b[39m \u001b[39m\u001b[39m \u001b[39m\u001b[39m \u001b[39m\u001b[39m \u001b[39m\u001b[39m \u001b[39m\u001b[39m \u001b[39m\u001b[39m \u001b[39m\u001b[39m \u001b[39m\u001b[39m \u001b[39m\u001b[39m \u001b[39m\u001b[39m \u001b[39m\u001b[39m \u001b[39m\u001b[39m \u001b[39m\u001b[39m \u001b[39m\u001b[39m \u001b[39m\u001b[39m \u001b[39m\u001b[39m \u001b[39m\u001b[39m \u001b[39m\u001b[39m \u001b[39m\u001b[39m \u001b[39m\u001b[39m \u001b[39m\u001b[39m \u001b[39m\u001b[39m \u001b[39m\u001b[39m \u001b[39m\u001b[39m \u001b[39m\u001b[39m \u001b[39m\u001b[39m \u001b[39m\u001b[39m \u001b[39m\u001b[39m \u001b[39m\u001b[39m \u001b[39m\u001b[39m \u001b[39m\u001b[39m \u001b[39m\u001b[39m \u001b[39m\u001b[39m \u001b[39m\u001b[39m \u001b[39m\u001b[39m \u001b[39m\u001b[39m \u001b[39m\u001b[39m \u001b[39m\u001b[39m \u001b[39m\u001b[39m \u001b[39m\u001b[39m \u001b[39m\u001b[39m \u001b[39m\u001b[39m \u001b[39m\u001b[39m \u001b[39m\u001b[39m \u001b[39m\u001b[39m \u001b[39m\u001b[39m \u001b[39m\u001b[39m \u001b[39m\r\n",
      " 151| \u001b[39m \u001b[39m\u001b[39mo\u001b[39m\u001b[39m \u001b[39m\u001b[39m \u001b[39m\u001b[39m \u001b[39m\u001b[39m \u001b[39m\u001b[39m \u001b[39m\u001b[39m \u001b[39m\u001b[39m \u001b[39m\u001b[39m \u001b[39m\u001b[39m \u001b[39m\u001b[39m \u001b[39m\u001b[39m \u001b[39m\u001b[39m \u001b[39m\u001b[39m \u001b[39m\u001b[39m \u001b[39m\u001b[39m \u001b[39m\u001b[39m \u001b[39m\u001b[39m \u001b[39m\u001b[39m \u001b[39m\u001b[39m \u001b[39m\u001b[39m \u001b[39m\u001b[39m \u001b[39m\u001b[39m \u001b[39m\u001b[39m \u001b[39m\u001b[39m \u001b[39m\u001b[39m \u001b[39m\u001b[39m \u001b[39m\u001b[39m \u001b[39m\u001b[39m \u001b[39m\u001b[39m \u001b[39m\u001b[39m \u001b[39m\u001b[39m \u001b[39m\u001b[39m \u001b[39m\u001b[39m \u001b[39m\u001b[39m \u001b[39m\u001b[39m \u001b[39m\u001b[39m \u001b[39m\u001b[39m \u001b[39m\u001b[39m \u001b[39m\u001b[39m \u001b[39m\u001b[39m \u001b[39m\u001b[39m \u001b[39m\u001b[39m \u001b[39m\u001b[39m \u001b[39m\u001b[39m \u001b[39m\u001b[39m \u001b[39m\u001b[39m \u001b[39m\u001b[39m \u001b[39m\u001b[39m \u001b[39m\u001b[39m \u001b[39m\r\n",
      " 141| \u001b[39m \u001b[39m\u001b[39mo\u001b[39m\u001b[39mo\u001b[39m\u001b[39m \u001b[39m\u001b[39m \u001b[39m\u001b[39m \u001b[39m\u001b[39m \u001b[39m\u001b[39m \u001b[39m\u001b[39m \u001b[39m\u001b[39m \u001b[39m\u001b[39m \u001b[39m\u001b[39m \u001b[39m\u001b[39m \u001b[39m\u001b[39m \u001b[39m\u001b[39m \u001b[39m\u001b[39m \u001b[39m\u001b[39m \u001b[39m\u001b[39m \u001b[39m\u001b[39m \u001b[39m\u001b[39m \u001b[39m\u001b[39m \u001b[39m\u001b[39m \u001b[39m\u001b[39m \u001b[39m\u001b[39m \u001b[39m\u001b[39m \u001b[39m\u001b[39m \u001b[39m\u001b[39m \u001b[39m\u001b[39m \u001b[39m\u001b[39m \u001b[39m\u001b[39m \u001b[39m\u001b[39m \u001b[39m\u001b[39m \u001b[39m\u001b[39m \u001b[39m\u001b[39m \u001b[39m\u001b[39m \u001b[39m\u001b[39m \u001b[39m\u001b[39m \u001b[39m\u001b[39m \u001b[39m\u001b[39m \u001b[39m\u001b[39m \u001b[39m\u001b[39m \u001b[39m\u001b[39m \u001b[39m\u001b[39m \u001b[39m\u001b[39m \u001b[39m\u001b[39m \u001b[39m\u001b[39m \u001b[39m\u001b[39m \u001b[39m\u001b[39m \u001b[39m\u001b[39m \u001b[39m\u001b[39m \u001b[39m\u001b[39m \u001b[39m\r\n",
      " 131| \u001b[39m \u001b[39m\u001b[39mo\u001b[39m\u001b[39mo\u001b[39m\u001b[39m \u001b[39m\u001b[39m \u001b[39m\u001b[39m \u001b[39m\u001b[39m \u001b[39m\u001b[39m \u001b[39m\u001b[39m \u001b[39m\u001b[39m \u001b[39m\u001b[39m \u001b[39m\u001b[39m \u001b[39m\u001b[39m \u001b[39m\u001b[39m \u001b[39m\u001b[39m \u001b[39m\u001b[39m \u001b[39m\u001b[39m \u001b[39m\u001b[39m \u001b[39m\u001b[39m \u001b[39m\u001b[39m \u001b[39m\u001b[39m \u001b[39m\u001b[39m \u001b[39m\u001b[39m \u001b[39m\u001b[39m \u001b[39m\u001b[39m \u001b[39m\u001b[39m \u001b[39m\u001b[39m \u001b[39m\u001b[39m \u001b[39m\u001b[39m \u001b[39m\u001b[39m \u001b[39m\u001b[39m \u001b[39m\u001b[39m \u001b[39m\u001b[39m \u001b[39m\u001b[39m \u001b[39m\u001b[39m \u001b[39m\u001b[39m \u001b[39m\u001b[39m \u001b[39m\u001b[39m \u001b[39m\u001b[39m \u001b[39m\u001b[39m \u001b[39m\u001b[39m \u001b[39m\u001b[39m \u001b[39m\u001b[39m \u001b[39m\u001b[39m \u001b[39m\u001b[39m \u001b[39m\u001b[39m \u001b[39m\u001b[39m \u001b[39m\u001b[39m \u001b[39m\u001b[39m \u001b[39m\u001b[39m \u001b[39m\u001b[39m \u001b[39m\r\n",
      " 121| \u001b[39m \u001b[39m\u001b[39mo\u001b[39m\u001b[39mo\u001b[39m\u001b[39m \u001b[39m\u001b[39m \u001b[39m\u001b[39m \u001b[39m\u001b[39m \u001b[39m\u001b[39m \u001b[39m\u001b[39m \u001b[39m\u001b[39m \u001b[39m\u001b[39m \u001b[39m\u001b[39m \u001b[39m\u001b[39m \u001b[39m\u001b[39m \u001b[39m\u001b[39m \u001b[39m\u001b[39m \u001b[39m\u001b[39m \u001b[39m\u001b[39m \u001b[39m\u001b[39m \u001b[39m\u001b[39m \u001b[39m\u001b[39m \u001b[39m\u001b[39m \u001b[39m\u001b[39m \u001b[39m\u001b[39m \u001b[39m\u001b[39m \u001b[39m\u001b[39m \u001b[39m\u001b[39m \u001b[39m\u001b[39m \u001b[39m\u001b[39m \u001b[39m\u001b[39m \u001b[39m\u001b[39m \u001b[39m\u001b[39m \u001b[39m\u001b[39m \u001b[39m\u001b[39m \u001b[39m\u001b[39m \u001b[39m\u001b[39m \u001b[39m\u001b[39m \u001b[39m\u001b[39m \u001b[39m\u001b[39m \u001b[39m\u001b[39m \u001b[39m\u001b[39m \u001b[39m\u001b[39m \u001b[39m\u001b[39m \u001b[39m\u001b[39m \u001b[39m\u001b[39m \u001b[39m\u001b[39m \u001b[39m\u001b[39m \u001b[39m\u001b[39m \u001b[39m\u001b[39m \u001b[39m\u001b[39m \u001b[39m\u001b[39m \u001b[39m\r\n",
      " 111| \u001b[39m \u001b[39m\u001b[39mo\u001b[39m\u001b[39mo\u001b[39m\u001b[39m \u001b[39m\u001b[39m \u001b[39m\u001b[39m \u001b[39m\u001b[39m \u001b[39m\u001b[39m \u001b[39m\u001b[39m \u001b[39m\u001b[39m \u001b[39m\u001b[39m \u001b[39m\u001b[39m \u001b[39m\u001b[39m \u001b[39m\u001b[39m \u001b[39m\u001b[39m \u001b[39m\u001b[39m \u001b[39m\u001b[39m \u001b[39m\u001b[39m \u001b[39m\u001b[39m \u001b[39m\u001b[39m \u001b[39m\u001b[39m \u001b[39m\u001b[39m \u001b[39m\u001b[39m \u001b[39m\u001b[39m \u001b[39m\u001b[39m \u001b[39m\u001b[39m \u001b[39m\u001b[39m \u001b[39m\u001b[39m \u001b[39m\u001b[39m \u001b[39m\u001b[39m \u001b[39m\u001b[39m \u001b[39m\u001b[39m \u001b[39m\u001b[39m \u001b[39m\u001b[39m \u001b[39m\u001b[39m \u001b[39m\u001b[39m \u001b[39m\u001b[39m \u001b[39m\u001b[39m \u001b[39m\u001b[39m \u001b[39m\u001b[39m \u001b[39m\u001b[39m \u001b[39m\u001b[39m \u001b[39m\u001b[39m \u001b[39m\u001b[39m \u001b[39m\u001b[39m \u001b[39m\u001b[39m \u001b[39m\u001b[39m \u001b[39m\u001b[39m \u001b[39m\u001b[39m \u001b[39m\u001b[39m \u001b[39m\u001b[39m \u001b[39m\r\n",
      " 101| \u001b[39m \u001b[39m\u001b[39mo\u001b[39m\u001b[39mo\u001b[39m\u001b[39m \u001b[39m\u001b[39m \u001b[39m\u001b[39m \u001b[39m\u001b[39m \u001b[39m\u001b[39m \u001b[39m\u001b[39m \u001b[39m\u001b[39m \u001b[39m\u001b[39m \u001b[39m\u001b[39m \u001b[39m\u001b[39m \u001b[39m\u001b[39m \u001b[39m\u001b[39m \u001b[39m\u001b[39m \u001b[39m\u001b[39m \u001b[39m\u001b[39m \u001b[39m\u001b[39m \u001b[39m\u001b[39m \u001b[39m\u001b[39m \u001b[39m\u001b[39m \u001b[39m\u001b[39m \u001b[39m\u001b[39m \u001b[39m\u001b[39m \u001b[39m\u001b[39m \u001b[39m\u001b[39m \u001b[39m\u001b[39m \u001b[39m\u001b[39m \u001b[39m\u001b[39m \u001b[39m\u001b[39m \u001b[39m\u001b[39m \u001b[39m\u001b[39m \u001b[39m\u001b[39m \u001b[39m\u001b[39m \u001b[39m\u001b[39m \u001b[39m\u001b[39m \u001b[39m\u001b[39m \u001b[39m\u001b[39m \u001b[39m\u001b[39m \u001b[39m\u001b[39m \u001b[39m\u001b[39m \u001b[39m\u001b[39m \u001b[39m\u001b[39m \u001b[39m\u001b[39m \u001b[39m\u001b[39m \u001b[39m\u001b[39m \u001b[39m\u001b[39m \u001b[39m\u001b[39m \u001b[39m\u001b[39m \u001b[39m\u001b[39m \u001b[39m\r\n",
      "  91| \u001b[39m \u001b[39m\u001b[39mo\u001b[39m\u001b[39mo\u001b[39m\u001b[39mo\u001b[39m\u001b[39m \u001b[39m\u001b[39m \u001b[39m\u001b[39m \u001b[39m\u001b[39m \u001b[39m\u001b[39m \u001b[39m\u001b[39m \u001b[39m\u001b[39m \u001b[39m\u001b[39m \u001b[39m\u001b[39m \u001b[39m\u001b[39m \u001b[39m\u001b[39m \u001b[39m\u001b[39m \u001b[39m\u001b[39m \u001b[39m\u001b[39m \u001b[39m\u001b[39m \u001b[39m\u001b[39m \u001b[39m\u001b[39m \u001b[39m\u001b[39m \u001b[39m\u001b[39m \u001b[39m\u001b[39m \u001b[39m\u001b[39m \u001b[39m\u001b[39m \u001b[39m\u001b[39m \u001b[39m\u001b[39m \u001b[39m\u001b[39m \u001b[39m\u001b[39m \u001b[39m\u001b[39m \u001b[39m\u001b[39m \u001b[39m\u001b[39m \u001b[39m\u001b[39m \u001b[39m\u001b[39m \u001b[39m\u001b[39m \u001b[39m\u001b[39m \u001b[39m\u001b[39m \u001b[39m\u001b[39m \u001b[39m\u001b[39m \u001b[39m\u001b[39m \u001b[39m\u001b[39m \u001b[39m\u001b[39m \u001b[39m\u001b[39m \u001b[39m\u001b[39m \u001b[39m\u001b[39m \u001b[39m\u001b[39m \u001b[39m\u001b[39m \u001b[39m\u001b[39m \u001b[39m\u001b[39m \u001b[39m\u001b[39m \u001b[39m\r\n",
      "  81| \u001b[39m \u001b[39m\u001b[39mo\u001b[39m\u001b[39mo\u001b[39m\u001b[39mo\u001b[39m\u001b[39m \u001b[39m\u001b[39m \u001b[39m\u001b[39m \u001b[39m\u001b[39m \u001b[39m\u001b[39m \u001b[39m\u001b[39m \u001b[39m\u001b[39m \u001b[39m\u001b[39m \u001b[39m\u001b[39m \u001b[39m\u001b[39m \u001b[39m\u001b[39m \u001b[39m\u001b[39m \u001b[39m\u001b[39m \u001b[39m\u001b[39m \u001b[39m\u001b[39m \u001b[39m\u001b[39m \u001b[39m\u001b[39m \u001b[39m\u001b[39m \u001b[39m\u001b[39m \u001b[39m\u001b[39m \u001b[39m\u001b[39m \u001b[39m\u001b[39m \u001b[39m\u001b[39m \u001b[39m\u001b[39m \u001b[39m\u001b[39m \u001b[39m\u001b[39m \u001b[39m\u001b[39m \u001b[39m\u001b[39m \u001b[39m\u001b[39m \u001b[39m\u001b[39m \u001b[39m\u001b[39m \u001b[39m\u001b[39m \u001b[39m\u001b[39m \u001b[39m\u001b[39m \u001b[39m\u001b[39m \u001b[39m\u001b[39m \u001b[39m\u001b[39m \u001b[39m\u001b[39m \u001b[39m\u001b[39m \u001b[39m\u001b[39m \u001b[39m\u001b[39m \u001b[39m\u001b[39m \u001b[39m\u001b[39m \u001b[39m\u001b[39m \u001b[39m\u001b[39m \u001b[39m\u001b[39m \u001b[39m\u001b[39m \u001b[39m\r\n",
      "  71| \u001b[39m \u001b[39m\u001b[39mo\u001b[39m\u001b[39mo\u001b[39m\u001b[39mo\u001b[39m\u001b[39m \u001b[39m\u001b[39m \u001b[39m\u001b[39m \u001b[39m\u001b[39m \u001b[39m\u001b[39m \u001b[39m\u001b[39m \u001b[39m\u001b[39m \u001b[39m\u001b[39m \u001b[39m\u001b[39m \u001b[39m\u001b[39m \u001b[39m\u001b[39m \u001b[39m\u001b[39m \u001b[39m\u001b[39m \u001b[39m\u001b[39m \u001b[39m\u001b[39m \u001b[39m\u001b[39m \u001b[39m\u001b[39m \u001b[39m\u001b[39m \u001b[39m\u001b[39m \u001b[39m\u001b[39m \u001b[39m\u001b[39m \u001b[39m\u001b[39m \u001b[39m\u001b[39m \u001b[39m\u001b[39m \u001b[39m\u001b[39m \u001b[39m\u001b[39m \u001b[39m\u001b[39m \u001b[39m\u001b[39m \u001b[39m\u001b[39m \u001b[39m\u001b[39m \u001b[39m\u001b[39m \u001b[39m\u001b[39m \u001b[39m\u001b[39m \u001b[39m\u001b[39m \u001b[39m\u001b[39m \u001b[39m\u001b[39m \u001b[39m\u001b[39m \u001b[39m\u001b[39m \u001b[39m\u001b[39m \u001b[39m\u001b[39m \u001b[39m\u001b[39m \u001b[39m\u001b[39m \u001b[39m\u001b[39m \u001b[39m\u001b[39m \u001b[39m\u001b[39m \u001b[39m\u001b[39m \u001b[39m\u001b[39m \u001b[39m\r\n",
      "  61| \u001b[39m \u001b[39m\u001b[39mo\u001b[39m\u001b[39mo\u001b[39m\u001b[39mo\u001b[39m\u001b[39m \u001b[39m\u001b[39m \u001b[39m\u001b[39m \u001b[39m\u001b[39m \u001b[39m\u001b[39m \u001b[39m\u001b[39m \u001b[39m\u001b[39m \u001b[39m\u001b[39m \u001b[39m\u001b[39m \u001b[39m\u001b[39m \u001b[39m\u001b[39m \u001b[39m\u001b[39m \u001b[39m\u001b[39m \u001b[39m\u001b[39m \u001b[39m\u001b[39m \u001b[39m\u001b[39m \u001b[39m\u001b[39m \u001b[39m\u001b[39m \u001b[39m\u001b[39m \u001b[39m\u001b[39m \u001b[39m\u001b[39m \u001b[39m\u001b[39m \u001b[39m\u001b[39m \u001b[39m\u001b[39m \u001b[39m\u001b[39m \u001b[39m\u001b[39m \u001b[39m\u001b[39m \u001b[39m\u001b[39m \u001b[39m\u001b[39m \u001b[39m\u001b[39m \u001b[39m\u001b[39m \u001b[39m\u001b[39m \u001b[39m\u001b[39m \u001b[39m\u001b[39m \u001b[39m\u001b[39m \u001b[39m\u001b[39m \u001b[39m\u001b[39m \u001b[39m\u001b[39m \u001b[39m\u001b[39m \u001b[39m\u001b[39m \u001b[39m\u001b[39m \u001b[39m\u001b[39m \u001b[39m\u001b[39m \u001b[39m\u001b[39m \u001b[39m\u001b[39m \u001b[39m\u001b[39m \u001b[39m\u001b[39m \u001b[39m\r\n",
      "  51| \u001b[39m \u001b[39m\u001b[39mo\u001b[39m\u001b[39mo\u001b[39m\u001b[39mo\u001b[39m\u001b[39m \u001b[39m\u001b[39m \u001b[39m\u001b[39m \u001b[39m\u001b[39m \u001b[39m\u001b[39m \u001b[39m\u001b[39mo\u001b[39m\u001b[39m \u001b[39m\u001b[39m \u001b[39m\u001b[39m \u001b[39m\u001b[39m \u001b[39m\u001b[39m \u001b[39m\u001b[39m \u001b[39m\u001b[39m \u001b[39m\u001b[39m \u001b[39m\u001b[39m \u001b[39m\u001b[39m \u001b[39m\u001b[39m \u001b[39m\u001b[39m \u001b[39m\u001b[39m \u001b[39m\u001b[39m \u001b[39m\u001b[39m \u001b[39m\u001b[39m \u001b[39m\u001b[39m \u001b[39m\u001b[39m \u001b[39m\u001b[39m \u001b[39m\u001b[39m \u001b[39m\u001b[39m \u001b[39m\u001b[39m \u001b[39m\u001b[39m \u001b[39m\u001b[39m \u001b[39m\u001b[39m \u001b[39m\u001b[39m \u001b[39m\u001b[39m \u001b[39m\u001b[39m \u001b[39m\u001b[39m \u001b[39m\u001b[39m \u001b[39m\u001b[39m \u001b[39m\u001b[39m \u001b[39m\u001b[39m \u001b[39m\u001b[39m \u001b[39m\u001b[39m \u001b[39m\u001b[39m \u001b[39m\u001b[39m \u001b[39m\u001b[39m \u001b[39m\u001b[39m \u001b[39m\u001b[39m \u001b[39m\u001b[39m \u001b[39m\r\n",
      "  41| \u001b[39m \u001b[39m\u001b[39mo\u001b[39m\u001b[39mo\u001b[39m\u001b[39mo\u001b[39m\u001b[39mo\u001b[39m\u001b[39m \u001b[39m\u001b[39m \u001b[39m\u001b[39m \u001b[39m\u001b[39m \u001b[39m\u001b[39mo\u001b[39m\u001b[39m \u001b[39m\u001b[39m \u001b[39m\u001b[39m \u001b[39m\u001b[39m \u001b[39m\u001b[39m \u001b[39m\u001b[39m \u001b[39m\u001b[39m \u001b[39m\u001b[39m \u001b[39m\u001b[39m \u001b[39m\u001b[39m \u001b[39m\u001b[39m \u001b[39m\u001b[39m \u001b[39m\u001b[39m \u001b[39m\u001b[39m \u001b[39m\u001b[39m \u001b[39m\u001b[39m \u001b[39m\u001b[39m \u001b[39m\u001b[39m \u001b[39m\u001b[39m \u001b[39m\u001b[39m \u001b[39m\u001b[39m \u001b[39m\u001b[39m \u001b[39m\u001b[39m \u001b[39m\u001b[39m \u001b[39m\u001b[39m \u001b[39m\u001b[39m \u001b[39m\u001b[39m \u001b[39m\u001b[39m \u001b[39m\u001b[39m \u001b[39m\u001b[39m \u001b[39m\u001b[39m \u001b[39m\u001b[39m \u001b[39m\u001b[39m \u001b[39m\u001b[39m \u001b[39m\u001b[39m \u001b[39m\u001b[39m \u001b[39m\u001b[39m \u001b[39m\u001b[39m \u001b[39m\u001b[39m \u001b[39m\u001b[39m \u001b[39m\u001b[39m \u001b[39m\r\n",
      "  31| \u001b[39m \u001b[39m\u001b[39mo\u001b[39m\u001b[39mo\u001b[39m\u001b[39mo\u001b[39m\u001b[39mo\u001b[39m\u001b[39m \u001b[39m\u001b[39mo\u001b[39m\u001b[39m \u001b[39m\u001b[39m \u001b[39m\u001b[39mo\u001b[39m\u001b[39m \u001b[39m\u001b[39m \u001b[39m\u001b[39m \u001b[39m\u001b[39m \u001b[39m\u001b[39m \u001b[39m\u001b[39m \u001b[39m\u001b[39m \u001b[39m\u001b[39m \u001b[39m\u001b[39m \u001b[39m\u001b[39m \u001b[39m\u001b[39m \u001b[39m\u001b[39mo\u001b[39m\u001b[39m \u001b[39m\u001b[39m \u001b[39m\u001b[39m \u001b[39m\u001b[39m \u001b[39m\u001b[39m \u001b[39m\u001b[39m \u001b[39m\u001b[39m \u001b[39m\u001b[39m \u001b[39m\u001b[39m \u001b[39m\u001b[39m \u001b[39m\u001b[39m \u001b[39m\u001b[39m \u001b[39m\u001b[39m \u001b[39m\u001b[39m \u001b[39m\u001b[39m \u001b[39m\u001b[39m \u001b[39m\u001b[39m \u001b[39m\u001b[39m \u001b[39m\u001b[39m \u001b[39m\u001b[39m \u001b[39m\u001b[39m \u001b[39m\u001b[39m \u001b[39m\u001b[39m \u001b[39m\u001b[39m \u001b[39m\u001b[39m \u001b[39m\u001b[39m \u001b[39m\u001b[39m \u001b[39m\u001b[39m \u001b[39m\u001b[39m \u001b[39m\r\n",
      "  21| \u001b[39m \u001b[39m\u001b[39mo\u001b[39m\u001b[39mo\u001b[39m\u001b[39mo\u001b[39m\u001b[39mo\u001b[39m\u001b[39mo\u001b[39m\u001b[39mo\u001b[39m\u001b[39mo\u001b[39m\u001b[39mo\u001b[39m\u001b[39mo\u001b[39m\u001b[39mo\u001b[39m\u001b[39m \u001b[39m\u001b[39m \u001b[39m\u001b[39m \u001b[39m\u001b[39m \u001b[39m\u001b[39m \u001b[39m\u001b[39m \u001b[39m\u001b[39m \u001b[39m\u001b[39m \u001b[39m\u001b[39mo\u001b[39m\u001b[39m \u001b[39m\u001b[39mo\u001b[39m\u001b[39mo\u001b[39m\u001b[39mo\u001b[39m\u001b[39mo\u001b[39m\u001b[39m \u001b[39m\u001b[39m \u001b[39m\u001b[39m \u001b[39m\u001b[39m \u001b[39m\u001b[39m \u001b[39m\u001b[39m \u001b[39m\u001b[39m \u001b[39m\u001b[39m \u001b[39m\u001b[39m \u001b[39m\u001b[39m \u001b[39m\u001b[39m \u001b[39m\u001b[39m \u001b[39m\u001b[39m \u001b[39m\u001b[39m \u001b[39m\u001b[39m \u001b[39m\u001b[39m \u001b[39m\u001b[39m \u001b[39m\u001b[39m \u001b[39m\u001b[39m \u001b[39m\u001b[39m \u001b[39m\u001b[39m \u001b[39m\u001b[39m \u001b[39m\u001b[39m \u001b[39m\u001b[39m \u001b[39m\u001b[39m \u001b[39m\u001b[39m \u001b[39m\r\n",
      "  11| \u001b[39m \u001b[39m\u001b[39mo\u001b[39m\u001b[39mo\u001b[39m\u001b[39mo\u001b[39m\u001b[39mo\u001b[39m\u001b[39mo\u001b[39m\u001b[39mo\u001b[39m\u001b[39mo\u001b[39m\u001b[39mo\u001b[39m\u001b[39mo\u001b[39m\u001b[39mo\u001b[39m\u001b[39m \u001b[39m\u001b[39mo\u001b[39m\u001b[39m \u001b[39m\u001b[39m \u001b[39m\u001b[39m \u001b[39m\u001b[39mo\u001b[39m\u001b[39mo\u001b[39m\u001b[39mo\u001b[39m\u001b[39mo\u001b[39m\u001b[39mo\u001b[39m\u001b[39mo\u001b[39m\u001b[39mo\u001b[39m\u001b[39mo\u001b[39m\u001b[39mo\u001b[39m\u001b[39mo\u001b[39m\u001b[39m \u001b[39m\u001b[39m \u001b[39m\u001b[39m \u001b[39m\u001b[39m \u001b[39m\u001b[39m \u001b[39m\u001b[39m \u001b[39m\u001b[39m \u001b[39m\u001b[39m \u001b[39m\u001b[39m \u001b[39m\u001b[39m \u001b[39m\u001b[39m \u001b[39m\u001b[39m \u001b[39m\u001b[39m \u001b[39m\u001b[39m \u001b[39m\u001b[39m \u001b[39m\u001b[39m \u001b[39m\u001b[39m \u001b[39m\u001b[39m \u001b[39m\u001b[39m \u001b[39m\u001b[39m \u001b[39m\u001b[39m \u001b[39m\u001b[39m \u001b[39m\u001b[39m \u001b[39m\u001b[39m \u001b[39m\u001b[39m \u001b[39m\r\n",
      "   1| \u001b[39mo\u001b[39m\u001b[39mo\u001b[39m\u001b[39mo\u001b[39m\u001b[39mo\u001b[39m\u001b[39mo\u001b[39m\u001b[39mo\u001b[39m\u001b[39mo\u001b[39m\u001b[39mo\u001b[39m\u001b[39mo\u001b[39m\u001b[39mo\u001b[39m\u001b[39mo\u001b[39m\u001b[39mo\u001b[39m\u001b[39mo\u001b[39m\u001b[39mo\u001b[39m\u001b[39mo\u001b[39m\u001b[39mo\u001b[39m\u001b[39mo\u001b[39m\u001b[39mo\u001b[39m\u001b[39mo\u001b[39m\u001b[39mo\u001b[39m\u001b[39mo\u001b[39m\u001b[39mo\u001b[39m\u001b[39mo\u001b[39m\u001b[39mo\u001b[39m\u001b[39mo\u001b[39m\u001b[39mo\u001b[39m\u001b[39mo\u001b[39m\u001b[39mo\u001b[39m\u001b[39mo\u001b[39m\u001b[39mo\u001b[39m\u001b[39mo\u001b[39m\u001b[39mo\u001b[39m\u001b[39m \u001b[39m\u001b[39mo\u001b[39m\u001b[39m \u001b[39m\u001b[39mo\u001b[39m\u001b[39m \u001b[39m\u001b[39m \u001b[39m\u001b[39m \u001b[39m\u001b[39m \u001b[39m\u001b[39m \u001b[39m\u001b[39m \u001b[39m\u001b[39m \u001b[39m\u001b[39m \u001b[39m\u001b[39m \u001b[39m\u001b[39mo\u001b[39m\u001b[39m \u001b[39m\u001b[39m \u001b[39m\u001b[39m \u001b[39m\u001b[39m \u001b[39m\u001b[39mo\u001b[39m\r\n",
      "     ---------------------------------------------------\r\n",
      "\u001b[39m     \u001b[39m0 2 5 7 1 1 1 1 2 2 2 2 3 3 3 3 4 4 4 4 5 5 5 5 6 6 \r\n",
      "\u001b[39m     \u001b[39m. 6 2 8 0 3 5 8 0 3 6 8 1 3 6 9 1 4 6 9 2 4 7 9 2 5 \r\n",
      "\u001b[39m     \u001b[39m6 0 0 0 4 0 6 2 8 4 0 6 2 8 4 0 6 2 8 4 0 6 2 8 4 0 \r\n",
      "\u001b[39m     \u001b[39m6 . . . 1 1 1 1 1 1 1 1 1 2 2 2 2 2 2 2 2 2 3 3 3 3 \r\n",
      "\u001b[39m     \u001b[39m2 7 8 9 . . . . . . . . . . . . . . . . . . . . . . \r\n",
      "\u001b[39m     \u001b[39m5 7 8 9 1 2 3 4 5 6 7 8 9 1 2 3 4 5 6 7 8 9 1 2 3 4 \r\n",
      "\r\n",
      "------------------------------\r\n",
      "|          Summary           |\r\n",
      "------------------------------\r\n",
      "|     observations: 943      |\r\n",
      "|    min value: 0.662517     |\r\n",
      "|     mean : 1005.694117     |\r\n",
      "|   max value: 6503.440000   |\r\n",
      "------------------------------\r\n"
     ]
    }
   ],
   "source": [
    "# first pip install bashplotlib\n",
    "# histogram of genome size from animals\n",
    "awk '$5 == \"Animals\"' eukaryotes.tsv | cut -f 7 | hist -x -b 50"
   ]
  },
  {
   "cell_type": "markdown",
   "metadata": {},
   "source": [
    "### To find wifi cold spots when walking around with your laptop\n",
    "\n",
    "```bash\n",
    "watch -n 0.2 cat /proc/net/wireless\n",
    "```"
   ]
  },
  {
   "cell_type": "code",
   "execution_count": null,
   "metadata": {
    "collapsed": true
   },
   "outputs": [],
   "source": []
  },
  {
   "cell_type": "code",
   "execution_count": null,
   "metadata": {
    "collapsed": true
   },
   "outputs": [],
   "source": []
  },
  {
   "cell_type": "code",
   "execution_count": null,
   "metadata": {
    "collapsed": true
   },
   "outputs": [],
   "source": []
  },
  {
   "cell_type": "code",
   "execution_count": null,
   "metadata": {
    "collapsed": true
   },
   "outputs": [],
   "source": []
  },
  {
   "cell_type": "code",
   "execution_count": null,
   "metadata": {
    "collapsed": true
   },
   "outputs": [],
   "source": []
  }
 ],
 "metadata": {
  "kernelspec": {
   "display_name": "Bash",
   "language": "bash",
   "name": "bash"
  },
  "language_info": {
   "codemirror_mode": "shell",
   "file_extension": ".sh",
   "mimetype": "text/x-sh",
   "name": "bash"
  }
 },
 "nbformat": 4,
 "nbformat_minor": 0
}
